{
  "nbformat": 4,
  "nbformat_minor": 0,
  "metadata": {
    "colab": {
      "name": "TBF Adjusted Fatigue Rating.ipynb",
      "provenance": [],
      "include_colab_link": true
    },
    "kernelspec": {
      "name": "python3",
      "display_name": "Python 3"
    }
  },
  "cells": [
    {
      "cell_type": "markdown",
      "metadata": {
        "id": "view-in-github",
        "colab_type": "text"
      },
      "source": [
        "<a href=\"https://colab.research.google.com/github/bigrevkev55/TBF/blob/main/TBF_Adjusted_Fatigue_Rating.ipynb\" target=\"_parent\"><img src=\"https://colab.research.google.com/assets/colab-badge.svg\" alt=\"Open In Colab\"/></a>"
      ]
    },
    {
      "cell_type": "code",
      "metadata": {
        "colab": {
          "base_uri": "https://localhost:8080/"
        },
        "id": "4vGDma_Eg-F_",
        "outputId": "ea94f10a-29ba-46fd-9141-890f293d6785"
      },
      "source": [
        "# This is the fatigue calculator for the TBF\n",
        "# Fatigue is calculated by taking the fighters \"Fatigue Rating\" and dividing it by 12 then multiplying it\n",
        "#      by the number of rounds.\n",
        "# Create welcome message and instructions.\n",
        "# Prompt to enter the fighters fatigue rating and the amount of rounds in the fight.\n",
        "# Give the fighters adjusted fatigue rating.\n",
        "\n",
        "# Create welcome message and instructions.\n",
        "##from colorama import Fore\n",
        "##print(Fore.BLUE)\n",
        "\n",
        "fighters_fatigue_rating = int(input(\"Welcome to the Thomas Boxing Federation Fatigue Calculator! Enter the fighter's \"\n",
        "                                    \"fatigue rating: \"))\n",
        "rounds_in_the_fight = int(input(\"Now enter amount of rounds in the Fight: \"))\n",
        "\n",
        "adjusted_fatigue_rating = (fighters_fatigue_rating/12)*rounds_in_the_fight\n",
        "\n",
        "# Prompt to enter the fighters fatigue rating and the amount of rounds in the fight.\n",
        "print({fighters_fatigue_rating} and {rounds_in_the_fight})\n",
        "\n",
        "# Give the fighters adjusted fatigue rating.\n",
        "print(f\"The fighter's adjusted fatigue rating is {adjusted_fatigue_rating}\")"
      ],
      "execution_count": null,
      "outputs": [
        {
          "output_type": "stream",
          "text": [
            "Welcome to the Thomas Boxing Federation Fatigue Calculator! Enter the fighter's fatigue rating: 90\n"
          ],
          "name": "stdout"
        }
      ]
    }
  ]
}